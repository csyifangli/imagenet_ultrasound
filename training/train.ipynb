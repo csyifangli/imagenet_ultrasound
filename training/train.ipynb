{
 "cells": [
  {
   "cell_type": "code",
   "execution_count": 1,
   "metadata": {},
   "outputs": [],
   "source": [
    "# Import relevant packages\n",
    "import tensorflow as tf\n",
    "import numpy as np\n",
    "import h5py\n",
    "import scipy.io\n",
    "import skimage.io "
   ]
  },
  {
   "cell_type": "code",
   "execution_count": 2,
   "metadata": {},
   "outputs": [
    {
     "name": "stderr",
     "output_type": "stream",
     "text": [
      "/usr/local/lib/python3.5/dist-packages/h5py/_hl/dataset.py:313: H5pyDeprecationWarning: dataset.value has been deprecated. Use dataset[()] instead.\n",
      "  \"Use dataset[()] instead.\", H5pyDeprecationWarning)\n"
     ]
    }
   ],
   "source": [
    "# Load data and set up sets\n",
    "tf.reset_default_graph()\n",
    "f = h5py.File('data_all.h5', 'r')\n",
    "\n",
    "X_train = f['train_images'].value\n",
    "y_train = f['train_labels'].value\n",
    "\n",
    "X_val = f['validation_images'].value\n",
    "y_val = f['validation_labels'].value"
   ]
  },
  {
   "cell_type": "code",
   "execution_count": 10,
   "metadata": {},
   "outputs": [
    {
     "name": "stdout",
     "output_type": "stream",
     "text": [
      "__________________________________________________________________________________________________\n",
      "Layer (type)                    Output Shape         Param #     Connected to                     \n",
      "==================================================================================================\n",
      "input_4 (InputLayer)            (None, 512, 192, 3)  0                                            \n",
      "__________________________________________________________________________________________________\n",
      "conv2d_72 (Conv2D)              (None, 512, 192, 64) 1792        input_4[0][0]                    \n",
      "__________________________________________________________________________________________________\n",
      "conv2d_73 (Conv2D)              (None, 512, 192, 64) 36928       conv2d_72[0][0]                  \n",
      "__________________________________________________________________________________________________\n",
      "max_pooling2d_12 (MaxPooling2D) (None, 256, 96, 64)  0           conv2d_73[0][0]                  \n",
      "__________________________________________________________________________________________________\n",
      "conv2d_74 (Conv2D)              (None, 256, 96, 128) 73856       max_pooling2d_12[0][0]           \n",
      "__________________________________________________________________________________________________\n",
      "conv2d_75 (Conv2D)              (None, 256, 96, 128) 147584      conv2d_74[0][0]                  \n",
      "__________________________________________________________________________________________________\n",
      "max_pooling2d_13 (MaxPooling2D) (None, 128, 48, 128) 0           conv2d_75[0][0]                  \n",
      "__________________________________________________________________________________________________\n",
      "conv2d_76 (Conv2D)              (None, 128, 48, 256) 295168      max_pooling2d_13[0][0]           \n",
      "__________________________________________________________________________________________________\n",
      "conv2d_77 (Conv2D)              (None, 128, 48, 256) 590080      conv2d_76[0][0]                  \n",
      "__________________________________________________________________________________________________\n",
      "max_pooling2d_14 (MaxPooling2D) (None, 64, 24, 256)  0           conv2d_77[0][0]                  \n",
      "__________________________________________________________________________________________________\n",
      "conv2d_78 (Conv2D)              (None, 64, 24, 512)  1180160     max_pooling2d_14[0][0]           \n",
      "__________________________________________________________________________________________________\n",
      "conv2d_79 (Conv2D)              (None, 64, 24, 512)  2359808     conv2d_78[0][0]                  \n",
      "__________________________________________________________________________________________________\n",
      "dropout_6 (Dropout)             (None, 64, 24, 512)  0           conv2d_79[0][0]                  \n",
      "__________________________________________________________________________________________________\n",
      "max_pooling2d_15 (MaxPooling2D) (None, 32, 12, 512)  0           dropout_6[0][0]                  \n",
      "__________________________________________________________________________________________________\n",
      "conv2d_80 (Conv2D)              (None, 32, 12, 1024) 4719616     max_pooling2d_15[0][0]           \n",
      "__________________________________________________________________________________________________\n",
      "conv2d_81 (Conv2D)              (None, 32, 12, 1024) 9438208     conv2d_80[0][0]                  \n",
      "__________________________________________________________________________________________________\n",
      "dropout_7 (Dropout)             (None, 32, 12, 1024) 0           conv2d_81[0][0]                  \n",
      "__________________________________________________________________________________________________\n",
      "up_sampling2d_12 (UpSampling2D) (None, 64, 24, 1024) 0           dropout_7[0][0]                  \n",
      "__________________________________________________________________________________________________\n",
      "conv2d_82 (Conv2D)              (None, 64, 24, 512)  2097664     up_sampling2d_12[0][0]           \n",
      "__________________________________________________________________________________________________\n",
      "concatenate_12 (Concatenate)    (None, 64, 24, 1024) 0           conv2d_79[0][0]                  \n",
      "                                                                 conv2d_82[0][0]                  \n",
      "__________________________________________________________________________________________________\n",
      "conv2d_83 (Conv2D)              (None, 64, 24, 512)  4719104     concatenate_12[0][0]             \n",
      "__________________________________________________________________________________________________\n",
      "conv2d_84 (Conv2D)              (None, 64, 24, 512)  2359808     conv2d_83[0][0]                  \n",
      "__________________________________________________________________________________________________\n",
      "up_sampling2d_13 (UpSampling2D) (None, 128, 48, 512) 0           conv2d_84[0][0]                  \n",
      "__________________________________________________________________________________________________\n",
      "conv2d_85 (Conv2D)              (None, 128, 48, 256) 524544      up_sampling2d_13[0][0]           \n",
      "__________________________________________________________________________________________________\n",
      "concatenate_13 (Concatenate)    (None, 128, 48, 512) 0           conv2d_77[0][0]                  \n",
      "                                                                 conv2d_85[0][0]                  \n",
      "__________________________________________________________________________________________________\n",
      "conv2d_86 (Conv2D)              (None, 128, 48, 256) 1179904     concatenate_13[0][0]             \n",
      "__________________________________________________________________________________________________\n",
      "conv2d_87 (Conv2D)              (None, 128, 48, 256) 590080      conv2d_86[0][0]                  \n",
      "__________________________________________________________________________________________________\n",
      "up_sampling2d_14 (UpSampling2D) (None, 256, 96, 256) 0           conv2d_87[0][0]                  \n",
      "__________________________________________________________________________________________________\n",
      "conv2d_88 (Conv2D)              (None, 256, 96, 128) 131200      up_sampling2d_14[0][0]           \n",
      "__________________________________________________________________________________________________\n",
      "concatenate_14 (Concatenate)    (None, 256, 96, 256) 0           conv2d_75[0][0]                  \n",
      "                                                                 conv2d_88[0][0]                  \n",
      "__________________________________________________________________________________________________\n",
      "conv2d_89 (Conv2D)              (None, 256, 96, 128) 295040      concatenate_14[0][0]             \n",
      "__________________________________________________________________________________________________\n",
      "conv2d_90 (Conv2D)              (None, 256, 96, 128) 147584      conv2d_89[0][0]                  \n",
      "__________________________________________________________________________________________________\n",
      "up_sampling2d_15 (UpSampling2D) (None, 512, 192, 128 0           conv2d_90[0][0]                  \n",
      "__________________________________________________________________________________________________\n",
      "conv2d_91 (Conv2D)              (None, 512, 192, 64) 32832       up_sampling2d_15[0][0]           \n",
      "__________________________________________________________________________________________________\n",
      "concatenate_15 (Concatenate)    (None, 512, 192, 128 0           conv2d_73[0][0]                  \n",
      "                                                                 conv2d_91[0][0]                  \n",
      "__________________________________________________________________________________________________\n",
      "conv2d_92 (Conv2D)              (None, 512, 192, 64) 73792       concatenate_15[0][0]             \n",
      "__________________________________________________________________________________________________\n",
      "conv2d_93 (Conv2D)              (None, 512, 192, 64) 36928       conv2d_92[0][0]                  \n",
      "__________________________________________________________________________________________________\n",
      "conv2d_94 (Conv2D)              (None, 512, 192, 2)  1154        conv2d_93[0][0]                  \n",
      "__________________________________________________________________________________________________\n",
      "conv2d_95 (Conv2D)              (None, 512, 192, 1)  3           conv2d_94[0][0]                  \n",
      "__________________________________________________________________________________________________\n",
      "reshape_3 (Reshape)             (None, 512, 192)     0           conv2d_95[0][0]                  \n",
      "==================================================================================================\n",
      "Total params: 31,032,837\n",
      "Trainable params: 31,032,837\n",
      "Non-trainable params: 0\n",
      "__________________________________________________________________________________________________\n"
     ]
    }
   ],
   "source": [
    "# Define a U-net model\n",
    "def make_unet():\n",
    "    inputs = tf.keras.layers.Input(shape=(512, 192, 3))\n",
    "    \n",
    "    conv1 = tf.keras.layers.Conv2D(64, 3, activation = 'relu', padding = 'same')(inputs)\n",
    "    conv1 = tf.keras.layers.Conv2D(64, 3, activation = 'relu', padding = 'same')(conv1)\n",
    "    pool1 = tf.keras.layers.MaxPooling2D(pool_size=(2, 2))(conv1)\n",
    "    conv2 = tf.keras.layers.Conv2D(128, 3, activation = 'relu', padding = 'same')(pool1)\n",
    "    conv2 = tf.keras.layers.Conv2D(128, 3, activation = 'relu', padding = 'same')(conv2)\n",
    "    pool2 = tf.keras.layers.MaxPooling2D(pool_size=(2, 2))(conv2)\n",
    "    conv3 = tf.keras.layers.Conv2D(256, 3, activation = 'relu', padding = 'same')(pool2)\n",
    "    conv3 = tf.keras.layers.Conv2D(256, 3, activation = 'relu', padding = 'same')(conv3)\n",
    "    pool3 = tf.keras.layers.MaxPooling2D(pool_size=(2, 2))(conv3)\n",
    "    conv4 = tf.keras.layers.Conv2D(512, 3, activation = 'relu', padding = 'same')(pool3)\n",
    "    conv4 = tf.keras.layers.Conv2D(512, 3, activation = 'relu', padding = 'same')(conv4)\n",
    "    drop4 = tf.keras.layers.Dropout(0.5)(conv4)\n",
    "    pool4 = tf.keras.layers.MaxPooling2D(pool_size=(2, 2))(drop4)\n",
    "\n",
    "    conv5 = tf.keras.layers.Conv2D(1024, 3, activation = 'relu', padding = 'same')(pool4)\n",
    "    conv5 = tf.keras.layers.Conv2D(1024, 3, activation = 'relu', padding = 'same')(conv5)\n",
    "    drop5 = tf.keras.layers.Dropout(0.5)(conv5)\n",
    "\n",
    "    up6 = tf.keras.layers.Conv2D(512, 2, activation = 'relu', padding = 'same')(tf.keras.layers.UpSampling2D(size = (2,2))(drop5))\n",
    "    merge6 = tf.keras.layers.concatenate([conv4,up6], axis = 3)\n",
    "    conv6 = tf.keras.layers.Conv2D(512, 3, activation = 'relu', padding = 'same')(merge6)\n",
    "    conv6 = tf.keras.layers.Conv2D(512, 3, activation = 'relu', padding = 'same')(conv6)\n",
    "\n",
    "    up7 = tf.keras.layers.Conv2D(256, 2, activation = 'relu', padding = 'same')(tf.keras.layers.UpSampling2D(size = (2,2))(conv6))\n",
    "    merge7 = tf.keras.layers.concatenate([conv3,up7], axis = 3)\n",
    "    conv7 = tf.keras.layers.Conv2D(256, 3, activation = 'relu', padding = 'same')(merge7)\n",
    "    conv7 = tf.keras.layers.Conv2D(256, 3, activation = 'relu', padding = 'same')(conv7)\n",
    "\n",
    "    up8 = tf.keras.layers.Conv2D(128, 2, activation = 'relu', padding = 'same')(tf.keras.layers.UpSampling2D(size = (2,2))(conv7))\n",
    "    merge8 = tf.keras.layers.concatenate([conv2,up8], axis = 3)\n",
    "    conv8 = tf.keras.layers.Conv2D(128, 3, activation = 'relu', padding = 'same')(merge8)\n",
    "    conv8 = tf.keras.layers.Conv2D(128, 3, activation = 'relu', padding = 'same')(conv8)\n",
    "\n",
    "    up9 = tf.keras.layers.Conv2D(64, 2, activation = 'relu', padding = 'same')(tf.keras.layers.UpSampling2D(size = (2,2))(conv8))\n",
    "    merge9 = tf.keras.layers.concatenate([conv1,up9], axis = 3)\n",
    "    conv9 = tf.keras.layers.Conv2D(64, 3, activation = 'relu', padding = 'same')(merge9)\n",
    "    conv9 = tf.keras.layers.Conv2D(64, 3, activation = 'relu', padding = 'same')(conv9)\n",
    "    conv9 = tf.keras.layers.Conv2D(2, 3, activation = 'relu', padding = 'same')(conv9)\n",
    "    conv10 = tf.keras.layers.Conv2D(1, 1, activation = 'sigmoid')(conv9)\n",
    "    conv10 = tf.keras.layers.Reshape((conv10.shape[1], conv10.shape[2]))(conv10)\n",
    "    model = tf.keras.Model(inputs = inputs, outputs = conv10)\n",
    "\n",
    "    model.compile(optimizer = tf.train.AdamOptimizer(0.00001), loss = 'mean_squared_error')\n",
    "    \n",
    "    model.summary()\n",
    "\n",
    "    return model\n",
    "\n",
    "model = make_unet()\n",
    "early_stop = tf.keras.callbacks.EarlyStopping(monitor='val_loss', min_delta=5e-5, patience=5)\n",
    "tensorboard = tf.keras.callbacks.TensorBoard(log_dir='logs/{}'.format('model_name'))\n",
    "checkpoint = tf.keras.callbacks.ModelCheckpoint('./model.{epoch:02d}-{val_loss:.10f}.hdf5', monitor='val_loss', verbose=0, period=1)"
   ]
  },
  {
   "cell_type": "code",
   "execution_count": 11,
   "metadata": {},
   "outputs": [
    {
     "name": "stdout",
     "output_type": "stream",
     "text": [
      "Train on 490 samples, validate on 10 samples\n",
      "Epoch 1/100\n",
      "480/490 [============================>.] - ETA: 2s - loss: 0.2465WARNING:tensorflow:TensorFlow optimizers do not make it possible to access optimizer attributes or optimizer state after instantiation. As a result, we cannot save the optimizer as part of the model save file.You will have to compile your model again after loading it. Prefer using a Keras optimizer instead (see keras.io/optimizers).\n",
      "490/490 [==============================] - 131s 268ms/sample - loss: 0.2453 - val_loss: 0.1797\n",
      "Epoch 2/100\n",
      "480/490 [============================>.] - ETA: 2s - loss: 0.0212WARNING:tensorflow:TensorFlow optimizers do not make it possible to access optimizer attributes or optimizer state after instantiation. As a result, we cannot save the optimizer as part of the model save file.You will have to compile your model again after loading it. Prefer using a Keras optimizer instead (see keras.io/optimizers).\n",
      "490/490 [==============================] - 112s 229ms/sample - loss: 0.0208 - val_loss: 0.0072\n",
      "Epoch 3/100\n",
      "480/490 [============================>.] - ETA: 2s - loss: 0.0029WARNING:tensorflow:TensorFlow optimizers do not make it possible to access optimizer attributes or optimizer state after instantiation. As a result, we cannot save the optimizer as part of the model save file.You will have to compile your model again after loading it. Prefer using a Keras optimizer instead (see keras.io/optimizers).\n",
      "490/490 [==============================] - 111s 227ms/sample - loss: 0.0029 - val_loss: 0.0071\n",
      "Epoch 4/100\n",
      "480/490 [============================>.] - ETA: 2s - loss: 0.0029WARNING:tensorflow:TensorFlow optimizers do not make it possible to access optimizer attributes or optimizer state after instantiation. As a result, we cannot save the optimizer as part of the model save file.You will have to compile your model again after loading it. Prefer using a Keras optimizer instead (see keras.io/optimizers).\n",
      "490/490 [==============================] - 111s 227ms/sample - loss: 0.0029 - val_loss: 0.0071\n",
      "Epoch 5/100\n",
      "480/490 [============================>.] - ETA: 2s - loss: 0.0029WARNING:tensorflow:TensorFlow optimizers do not make it possible to access optimizer attributes or optimizer state after instantiation. As a result, we cannot save the optimizer as part of the model save file.You will have to compile your model again after loading it. Prefer using a Keras optimizer instead (see keras.io/optimizers).\n",
      "490/490 [==============================] - 111s 226ms/sample - loss: 0.0029 - val_loss: 0.0070\n",
      "Epoch 6/100\n",
      "480/490 [============================>.] - ETA: 2s - loss: 0.0029WARNING:tensorflow:TensorFlow optimizers do not make it possible to access optimizer attributes or optimizer state after instantiation. As a result, we cannot save the optimizer as part of the model save file.You will have to compile your model again after loading it. Prefer using a Keras optimizer instead (see keras.io/optimizers).\n",
      "490/490 [==============================] - 111s 226ms/sample - loss: 0.0029 - val_loss: 0.0070\n",
      "Epoch 7/100\n",
      "480/490 [============================>.] - ETA: 2s - loss: 0.0029WARNING:tensorflow:TensorFlow optimizers do not make it possible to access optimizer attributes or optimizer state after instantiation. As a result, we cannot save the optimizer as part of the model save file.You will have to compile your model again after loading it. Prefer using a Keras optimizer instead (see keras.io/optimizers).\n",
      "490/490 [==============================] - 110s 225ms/sample - loss: 0.0029 - val_loss: 0.0070\n",
      "Epoch 8/100\n",
      "480/490 [============================>.] - ETA: 2s - loss: 0.0029WARNING:tensorflow:TensorFlow optimizers do not make it possible to access optimizer attributes or optimizer state after instantiation. As a result, we cannot save the optimizer as part of the model save file.You will have to compile your model again after loading it. Prefer using a Keras optimizer instead (see keras.io/optimizers).\n",
      "490/490 [==============================] - 110s 225ms/sample - loss: 0.0029 - val_loss: 0.0070\n",
      "Epoch 9/100\n",
      "480/490 [============================>.] - ETA: 2s - loss: 0.0029WARNING:tensorflow:TensorFlow optimizers do not make it possible to access optimizer attributes or optimizer state after instantiation. As a result, we cannot save the optimizer as part of the model save file.You will have to compile your model again after loading it. Prefer using a Keras optimizer instead (see keras.io/optimizers).\n",
      "490/490 [==============================] - 110s 224ms/sample - loss: 0.0029 - val_loss: 0.0070\n",
      "Epoch 10/100\n",
      "480/490 [============================>.] - ETA: 2s - loss: 0.0029WARNING:tensorflow:TensorFlow optimizers do not make it possible to access optimizer attributes or optimizer state after instantiation. As a result, we cannot save the optimizer as part of the model save file.You will have to compile your model again after loading it. Prefer using a Keras optimizer instead (see keras.io/optimizers).\n",
      "490/490 [==============================] - 110s 224ms/sample - loss: 0.0029 - val_loss: 0.0070\n",
      "Epoch 11/100\n",
      "480/490 [============================>.] - ETA: 2s - loss: 0.0029WARNING:tensorflow:TensorFlow optimizers do not make it possible to access optimizer attributes or optimizer state after instantiation. As a result, we cannot save the optimizer as part of the model save file.You will have to compile your model again after loading it. Prefer using a Keras optimizer instead (see keras.io/optimizers).\n",
      "490/490 [==============================] - 110s 224ms/sample - loss: 0.0029 - val_loss: 0.0070\n"
     ]
    }
   ],
   "source": [
    "hist = model.fit(X_train, y_train,\n",
    "          batch_size=10,\n",
    "          epochs=100,\n",
    "          verbose=1,\n",
    "          validation_data=(X_val, y_val),\n",
    "          callbacks=[early_stop, tensorboard, checkpoint])"
   ]
  },
  {
   "cell_type": "code",
   "execution_count": 12,
   "metadata": {
    "scrolled": true
   },
   "outputs": [
    {
     "name": "stdout",
     "output_type": "stream",
     "text": [
      "WARNING:tensorflow:TensorFlow optimizers do not make it possible to access optimizer attributes or optimizer state after instantiation. As a result, we cannot save the optimizer as part of the model save file.You will have to compile your model again after loading it. Prefer using a Keras optimizer instead (see keras.io/optimizers).\n"
     ]
    }
   ],
   "source": [
    "tf.keras.models.save_model(model,'full_model.h5')"
   ]
  },
  {
   "cell_type": "code",
   "execution_count": 17,
   "metadata": {},
   "outputs": [],
   "source": [
    "# Make predictions\n",
    "X_pred = model.predict(X_train)\n",
    "X_pred_too = model.predict(X_val)\n",
    "X_pred_all = np.concatenate((X_pred,X_pred_too),axis=0)"
   ]
  },
  {
   "cell_type": "code",
   "execution_count": 28,
   "metadata": {},
   "outputs": [],
   "source": [
    "# Write data\n",
    "hf = h5py.File('model_results.h5', 'w')\n",
    "hf.create_dataset('predictions', data=X_pred_all)\n",
    "hf.close()"
   ]
  }
 ],
 "metadata": {
  "kernelspec": {
   "display_name": "Python 3",
   "language": "python",
   "name": "python3"
  },
  "language_info": {
   "codemirror_mode": {
    "name": "ipython",
    "version": 3
   },
   "file_extension": ".py",
   "mimetype": "text/x-python",
   "name": "python",
   "nbconvert_exporter": "python",
   "pygments_lexer": "ipython3",
   "version": "3.5.3"
  }
 },
 "nbformat": 4,
 "nbformat_minor": 2
}
